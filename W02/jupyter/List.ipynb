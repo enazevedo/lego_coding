{
 "cells": [
  {
   "cell_type": "code",
   "execution_count": 1,
   "metadata": {},
   "outputs": [],
   "source": [
    "# List\n",
    "products = [\"MX\", \"MS\", \"MR\", \"MG\", \"SM\", \"MV\", \"MI\"]\n",
    "vlans = [1, 2, 3, 4, 5]"
   ]
  },
  {
   "cell_type": "code",
   "execution_count": 2,
   "metadata": {},
   "outputs": [
    {
     "data": {
      "text/plain": [
       "False"
      ]
     },
     "execution_count": 2,
     "metadata": {},
     "output_type": "execute_result"
    }
   ],
   "source": [
    "# Lists are ordered.\n",
    "vlans_1 = [1, 2, 3, 4, 5]\n",
    "vlans_2 = [5, 4, 3, 2, 1]\n",
    "\n",
    "vlans_1 == vlans_2"
   ]
  },
  {
   "cell_type": "code",
   "execution_count": 3,
   "metadata": {},
   "outputs": [],
   "source": [
    "# Lists can contain any arbitrary objects.\n",
    "combined = [\"MX\", 2, \"MS\", 3, \"MR\", 1]"
   ]
  },
  {
   "cell_type": "code",
   "execution_count": 4,
   "metadata": {},
   "outputs": [
    {
     "data": {
      "text/plain": [
       "['MS', 'MR', 'MG']"
      ]
     },
     "execution_count": 4,
     "metadata": {},
     "output_type": "execute_result"
    }
   ],
   "source": [
    "# List elements can be accessed by index.\n",
    "products[-2]\n",
    "products[1:4]"
   ]
  },
  {
   "cell_type": "code",
   "execution_count": 5,
   "metadata": {},
   "outputs": [
    {
     "name": "stdout",
     "output_type": "stream",
     "text": [
      "['MX', 'MS', 'MR']\n",
      "MS\n",
      "5\n"
     ]
    }
   ],
   "source": [
    "# Lists can be nested to arbitrary depth.\n",
    "nested = [1, \"appliance\", [\"MX\", \"MS\", \"MR\"], [[1, 2, 3,], [4, 5, 6]]]\n",
    "\n",
    "print(nested[2])\n",
    "print(nested[2][1])\n",
    "print(nested[3][1][1])"
   ]
  },
  {
   "cell_type": "code",
   "execution_count": 6,
   "metadata": {},
   "outputs": [
    {
     "name": "stdout",
     "output_type": "stream",
     "text": [
      "['MX', 'MS', 'MR', 'MG', 'MC', 'MV', 'MI']\n"
     ]
    }
   ],
   "source": [
    "# Lists are mutable.\n",
    "products[4] = \"MC\"\n",
    "print(products)"
   ]
  },
  {
   "cell_type": "code",
   "execution_count": 7,
   "metadata": {},
   "outputs": [
    {
     "name": "stdout",
     "output_type": "stream",
     "text": [
      "['MX', 'MS', 'MR', 'MG', 'MV', 'MI']\n"
     ]
    }
   ],
   "source": [
    "del products[4]\n",
    "print(products)"
   ]
  },
  {
   "cell_type": "code",
   "execution_count": null,
   "metadata": {},
   "outputs": [],
   "source": [
    "# Lists are dynamic."
   ]
  },
  {
   "cell_type": "code",
   "execution_count": 8,
   "metadata": {},
   "outputs": [
    {
     "name": "stdout",
     "output_type": "stream",
     "text": [
      "['MX', 'MS', 'MR', 'MG', 'MV', 'MI', 'MD']\n"
     ]
    }
   ],
   "source": [
    "# Methods\n",
    "# Append\n",
    "products.append(\"MD\")\n",
    "print(products)"
   ]
  },
  {
   "cell_type": "code",
   "execution_count": null,
   "metadata": {},
   "outputs": [],
   "source": [
    "# Practice"
   ]
  },
  {
   "cell_type": "code",
   "execution_count": null,
   "metadata": {},
   "outputs": [],
   "source": [
    "# Extend \n",
    "\n",
    "vlans = [100, 200, 300, 400, 500]\n",
    "new_vlans = [10, 20, 30]\n",
    "\n",
    "vlans.extend(new_vlans)\n",
    "print(vlans)"
   ]
  },
  {
   "cell_type": "code",
   "execution_count": null,
   "metadata": {},
   "outputs": [],
   "source": [
    "# Insert an item to the list\n",
    "\n",
    "vlans.insert(5, 600)\n",
    "print(vlans)"
   ]
  },
  {
   "cell_type": "code",
   "execution_count": null,
   "metadata": {},
   "outputs": [],
   "source": [
    "# Remove an item from the list\n",
    "\n",
    "vlans.remove(600)\n",
    "print(vlans)"
   ]
  },
  {
   "cell_type": "code",
   "execution_count": null,
   "metadata": {},
   "outputs": [],
   "source": [
    "# Sort \n",
    "\n",
    "vlans.sort()\n",
    "print(vlans)"
   ]
  },
  {
   "cell_type": "code",
   "execution_count": null,
   "metadata": {},
   "outputs": [],
   "source": [
    "# Clear\n",
    "vlans.clear()\n",
    "print(vlans)"
   ]
  },
  {
   "cell_type": "code",
   "execution_count": null,
   "metadata": {},
   "outputs": [],
   "source": []
  }
 ],
 "metadata": {
  "kernelspec": {
   "display_name": "Python 3",
   "language": "python",
   "name": "python3"
  },
  "language_info": {
   "codemirror_mode": {
    "name": "ipython",
    "version": 3
   },
   "file_extension": ".py",
   "mimetype": "text/x-python",
   "name": "python",
   "nbconvert_exporter": "python",
   "pygments_lexer": "ipython3",
   "version": "3.8.2"
  }
 },
 "nbformat": 4,
 "nbformat_minor": 4
}
