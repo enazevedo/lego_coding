{
 "cells": [
  {
   "cell_type": "code",
   "execution_count": 1,
   "metadata": {},
   "outputs": [],
   "source": [
    "from pprint import pprint"
   ]
  },
  {
   "cell_type": "code",
   "execution_count": 2,
   "metadata": {},
   "outputs": [
    {
     "name": "stdout",
     "output_type": "stream",
     "text": [
      "{'clientDescription': 'Andrey-Mac',\n",
      " 'clientId': 'k645re2',\n",
      " 'description': 'DHCP lease',\n",
      " 'deviceName': 'Firewall',\n",
      " 'deviceSerial': 'Q2XX-XXXX-XXXX',\n",
      " 'eventData': {'dns': '192.168.128.1',\n",
      "               'duration': '86400',\n",
      "               'ip': '192.168.111.9',\n",
      "               'router': '192.168.111.1',\n",
      "               'server_ip': '192.168.111.1',\n",
      "               'subnet': '255.255.255.0',\n",
      "               'vap': '0',\n",
      "               'vlan': '0'},\n",
      " 'networkId': 'L_3458413454534543',\n",
      " 'occurredAt': '2020-07-05T07:59:09.251914Z',\n",
      " 'type': 'dhcp_lease'}\n"
     ]
    }
   ],
   "source": [
    "event = {'occurredAt': '2020-07-05T07:59:09.251914Z', 'networkId': 'L_3458413454534543', 'type': 'dhcp_lease', 'description': 'DHCP lease', 'clientId': 'k645re2', 'clientDescription': 'Andrey-Mac', 'deviceSerial': 'Q2XX-XXXX-XXXX', 'deviceName': 'Firewall', 'eventData': {'vap': '0', 'vlan': '0', 'ip': '192.168.111.9', 'router': '192.168.111.1', 'subnet': '255.255.255.0', 'dns': '192.168.128.1', 'duration': '86400', 'server_ip': '192.168.111.1'}}\n",
    "pprint(event)"
   ]
  },
  {
   "cell_type": "code",
   "execution_count": 3,
   "metadata": {},
   "outputs": [
    {
     "name": "stdout",
     "output_type": "stream",
     "text": [
      "{'clientDescription': 'Andrey-Mac', 'clientId': 'k645re2'}\n"
     ]
    }
   ],
   "source": [
    "# Define dictionary\n",
    "# Method 1\n",
    "\n",
    "dict_one = {'clientDescription': 'Andrey-Mac', 'clientId': 'k645re2'}\n",
    "\n",
    "print(dict_one)"
   ]
  },
  {
   "cell_type": "code",
   "execution_count": 4,
   "metadata": {},
   "outputs": [
    {
     "name": "stdout",
     "output_type": "stream",
     "text": [
      "{'clientDescription': 'Andrey-Mac', 'clientId': 'k645re2'}\n"
     ]
    }
   ],
   "source": [
    "# Method 2\n",
    "dict_one = dict([\n",
    "    ('clientDescription', 'Andrey-Mac'),\n",
    "    ('clientId', 'k645re2')\n",
    "])\n",
    "\n",
    "print(dict_one)"
   ]
  },
  {
   "cell_type": "code",
   "execution_count": 5,
   "metadata": {},
   "outputs": [
    {
     "name": "stdout",
     "output_type": "stream",
     "text": [
      "{'clientDescription': 'Andrey-Mac', 'clientId': 'k645re2'}\n"
     ]
    }
   ],
   "source": [
    "# Method 3\n",
    "\n",
    "dict_one = dict(\n",
    "    clientDescription='Andrey-Mac', \n",
    "    clientId='k645re2'\n",
    ")\n",
    "\n",
    "print(dict_one)"
   ]
  },
  {
   "cell_type": "code",
   "execution_count": 6,
   "metadata": {},
   "outputs": [
    {
     "data": {
      "text/plain": [
       "dict"
      ]
     },
     "execution_count": 6,
     "metadata": {},
     "output_type": "execute_result"
    }
   ],
   "source": [
    "# Type\n",
    "type(dict_one)"
   ]
  },
  {
   "cell_type": "code",
   "execution_count": 7,
   "metadata": {},
   "outputs": [
    {
     "data": {
      "text/plain": [
       "'k645re2'"
      ]
     },
     "execution_count": 7,
     "metadata": {},
     "output_type": "execute_result"
    }
   ],
   "source": [
    "# Accessing Dictionary Values\n",
    "dict_one['clientId']"
   ]
  },
  {
   "cell_type": "code",
   "execution_count": 8,
   "metadata": {},
   "outputs": [
    {
     "name": "stdout",
     "output_type": "stream",
     "text": [
      "{'clientDescription': 'Andrey-Mac', 'clientId': 'k645re2', 'description': 'DHCP lease'}\n"
     ]
    }
   ],
   "source": [
    "# Adding an entry to the dictionary\n",
    "dict_one['description'] = 'DHCP lease'\n",
    "print(dict_one)"
   ]
  },
  {
   "cell_type": "code",
   "execution_count": 11,
   "metadata": {},
   "outputs": [],
   "source": [
    "# Get the key from the dictionary\n",
    "dict_one.get('23423452')"
   ]
  },
  {
   "cell_type": "code",
   "execution_count": 12,
   "metadata": {},
   "outputs": [],
   "source": [
    "dict_one.get('doesNotExist')\n",
    "# d['doesNotExist']"
   ]
  },
  {
   "cell_type": "code",
   "execution_count": 13,
   "metadata": {},
   "outputs": [
    {
     "data": {
      "text/plain": [
       "['clientDescription', 'clientId', 'description']"
      ]
     },
     "execution_count": 13,
     "metadata": {},
     "output_type": "execute_result"
    }
   ],
   "source": [
    "# Get keys\n",
    "dict_one.keys()\n",
    "list(dict_one.keys())"
   ]
  },
  {
   "cell_type": "code",
   "execution_count": 14,
   "metadata": {},
   "outputs": [
    {
     "data": {
      "text/plain": [
       "['Andrey-Mac', 'k645re2', 'DHCP lease']"
      ]
     },
     "execution_count": 14,
     "metadata": {},
     "output_type": "execute_result"
    }
   ],
   "source": [
    "# Get values\n",
    "dict_one.values()\n",
    "list(dict_one.values())"
   ]
  },
  {
   "cell_type": "code",
   "execution_count": 15,
   "metadata": {},
   "outputs": [
    {
     "name": "stdout",
     "output_type": "stream",
     "text": [
      "{'clientDescription': 'Andrey-Mac', 'clientId': 'k645re2'}\n"
     ]
    }
   ],
   "source": [
    "# Remove key-value pair\n",
    "dict_one.pop('description')\n",
    "print(dict_one)"
   ]
  },
  {
   "cell_type": "code",
   "execution_count": 16,
   "metadata": {},
   "outputs": [
    {
     "name": "stdout",
     "output_type": "stream",
     "text": [
      "{'macAddress': 'aa:bb:cc:11:22:22'}\n"
     ]
    }
   ],
   "source": [
    "# Merge a dictionary with another dictionary\n",
    "\n",
    "dict_two = {'macAddress': 'aa:bb:cc:11:22:22'}\n",
    "print(dict_two)"
   ]
  },
  {
   "cell_type": "code",
   "execution_count": 17,
   "metadata": {},
   "outputs": [
    {
     "name": "stdout",
     "output_type": "stream",
     "text": [
      "{'clientDescription': 'Andrey-Mac', 'clientId': 'k645re2', 'macAddress': 'aa:bb:cc:11:22:22'}\n"
     ]
    }
   ],
   "source": [
    "dict_one.update(dict_two)\n",
    "print(dict_one)"
   ]
  },
  {
   "cell_type": "code",
   "execution_count": null,
   "metadata": {},
   "outputs": [],
   "source": []
  }
 ],
 "metadata": {
  "kernelspec": {
   "display_name": "Python 3",
   "language": "python",
   "name": "python3"
  },
  "language_info": {
   "codemirror_mode": {
    "name": "ipython",
    "version": 3
   },
   "file_extension": ".py",
   "mimetype": "text/x-python",
   "name": "python",
   "nbconvert_exporter": "python",
   "pygments_lexer": "ipython3",
   "version": "3.8.2"
  }
 },
 "nbformat": 4,
 "nbformat_minor": 4
}
